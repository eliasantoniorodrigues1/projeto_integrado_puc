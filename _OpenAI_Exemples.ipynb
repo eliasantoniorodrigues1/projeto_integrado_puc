{
 "cells": [
  {
   "attachments": {},
   "cell_type": "markdown",
   "metadata": {},
   "source": [
    "Talib is a Python library for technical analysis of financial markets. It contains over 150 functions that can be used to analyze various financial market indicators such as moving averages, relative strength index (RSI), and Bollinger Bands, among others.\n",
    "\n",
    "To use the talib library in your Python code, you need to follow these steps:\n",
    "\n",
    "Install the talib library: You can install the library using pip. Open a command prompt and type the following command:\n",
    "\n",
    "pip install TA-Lib\n",
    "\n",
    "Import the library: Once the library is installed, you can import it in your Python code using the following command:\n",
    "\n",
    "import talib\n",
    "\n",
    "Use the functions: You can use the functions provided by the talib library to perform technical analysis of financial market data. For example, to calculate the moving average of a dataset, you can use the MA function provided by the talib library. Here is an example code snippet that calculates the moving average of a dataset:"
   ]
  },
  {
   "cell_type": "code",
   "execution_count": null,
   "metadata": {},
   "outputs": [],
   "source": [
    "import numpy as np\n",
    "import talib\n",
    "\n",
    "# create a sample dataset\n",
    "data = np.array([10, 20, 30, 40, 50, 60, 70, 80, 90, 100])\n",
    "\n",
    "# calculate the moving average\n",
    "ma = talib.MA(data, timeperiod=3)\n",
    "\n",
    "# print the moving average\n",
    "print(ma)"
   ]
  },
  {
   "attachments": {},
   "cell_type": "markdown",
   "metadata": {},
   "source": [
    "In this example, the MA function is used to calculate the moving average of a dataset with a time period of 3. The result is stored in the ma variable, which is then printed to the console.\n",
    "\n",
    "Explore the library: You can explore the talib library documentation to learn more about the various functions it provides and how to use them. The documentation can be found on the talib website: https://mrjbq7.github.io/ta-lib/doc_index.html"
   ]
  },
  {
   "attachments": {},
   "cell_type": "markdown",
   "metadata": {},
   "source": [
    "Sure, here's an example of how to use the ta.STOCHRSI function from the ta library in Python:"
   ]
  },
  {
   "cell_type": "code",
   "execution_count": 3,
   "metadata": {},
   "outputs": [
    {
     "name": "stdout",
     "output_type": "stream",
     "text": [
      "                                 Open        High  ...  Stock Splits  STOCHRSI\n",
      "Date                                               ...                        \n",
      "2022-03-25 00:00:00-04:00  172.833045  174.224610  ...           0.0       NaN\n",
      "2022-03-28 00:00:00-04:00  171.133324  174.671886  ...           0.0       NaN\n",
      "2022-03-29 00:00:00-04:00  175.626110  177.932133  ...           0.0       NaN\n",
      "2022-03-30 00:00:00-04:00  177.474918  178.528533  ...           0.0       NaN\n",
      "2022-03-31 00:00:00-04:00  176.769187  176.958045  ...           0.0       NaN\n",
      "...                               ...         ...  ...           ...       ...\n",
      "2023-03-20 00:00:00-04:00  155.070007  157.820007  ...           0.0  1.000000\n",
      "2023-03-21 00:00:00-04:00  157.320007  159.399994  ...           0.0  1.000000\n",
      "2023-03-22 00:00:00-04:00  159.300003  162.139999  ...           0.0  0.776818\n",
      "2023-03-23 00:00:00-04:00  158.830002  161.550003  ...           0.0  0.876237\n",
      "2023-03-24 00:00:00-04:00  158.860001  160.339996  ...           0.0  0.992755\n",
      "\n",
      "[251 rows x 8 columns]\n"
     ]
    }
   ],
   "source": [
    "import yfinance as yf\n",
    "import ta\n",
    "\n",
    "\n",
    "# download the stock price data for Apple\n",
    "apple = yf.Ticker(\"AAPL\")\n",
    "df = apple.history(period=\"1y\")\n",
    "\n",
    "# calculate the STOCHRSI indicator with a time period of 14 days\n",
    "# stochrsi = ta.momentum.STOCHRSIIndicator(df[\"Close\"], window=14)\n",
    "stochrsi = ta.momentum.StochRSIIndicator(df[\"Close\"], window=14)\n",
    "\n",
    "# add the STOCHRSI values to the DataFrame\n",
    "df[\"STOCHRSI\"] = stochrsi.stochrsi()\n",
    "\n",
    "# print the DataFrame\n",
    "print(df)"
   ]
  },
  {
   "attachments": {},
   "cell_type": "markdown",
   "metadata": {},
   "source": [
    "In this example, we first use the yfinance library to download the stock price data for Apple for the past year. Then, we create an instance of the STOCHRSIIndicator class from the ta.momentum module, passing in the closing prices of the stock as well as a time period of 14 days.\n",
    "\n",
    "Next, we call the stochrsi() method on the STOCHRSIIndicator object to calculate the STOCHRSI values, and add them to the DataFrame as a new column called \"STOCHRSI\".\n",
    "\n",
    "Finally, we print out the DataFrame to see the STOCHRSI values alongside the other stock price data.\n",
    "\n",
    "Note that this example assumes that you have both the yfinance and ta libraries installed. If you don't have them installed, you can install them using pip:"
   ]
  },
  {
   "attachments": {},
   "cell_type": "markdown",
   "metadata": {},
   "source": [
    "pip install yfinance ta"
   ]
  },
  {
   "attachments": {},
   "cell_type": "markdown",
   "metadata": {},
   "source": [
    "Also note that the STOCHRSI values are typically interpreted as an oscillator that can range from 0 to 100, with readings above 80 indicating overbought conditions and readings below 20 indicating oversold conditions."
   ]
  },
  {
   "attachments": {},
   "cell_type": "markdown",
   "metadata": {},
   "source": [
    "Yes, you can plot the STOCHRSI values calculated in the example I provided using the matplotlib library. Here's an example code snippet:"
   ]
  },
  {
   "cell_type": "code",
   "execution_count": null,
   "metadata": {},
   "outputs": [],
   "source": [
    "import yfinance as yf\n",
    "import ta\n",
    "import ta.momentum\n",
    "import matplotlib.pyplot as plt\n",
    "\n",
    "# download the stock price data for Apple\n",
    "apple = yf.Ticker(\"AAPL\")\n",
    "df = apple.history(period=\"1y\")\n",
    "\n",
    "# calculate the STOCHRSI indicator with a time period of 14 days\n",
    "stochrsi = ta.momentum.STOCHRSIIndicator(df[\"Close\"], window=14)\n",
    "\n",
    "# add the STOCHRSI values to the DataFrame\n",
    "df[\"STOCHRSI\"] = stochrsi.stochrsi()\n",
    "\n",
    "# plot the closing prices and STOCHRSI values on a graph\n",
    "plt.plot(df[\"Close\"], label=\"Closing Price\")\n",
    "plt.plot(df[\"STOCHRSI\"], label=\"STOCHRSI\")\n",
    "plt.legend()\n",
    "plt.show()"
   ]
  },
  {
   "attachments": {},
   "cell_type": "markdown",
   "metadata": {},
   "source": [
    "In this example, we use the matplotlib library to plot the closing prices and STOCHRSI values on a graph. We first call the plot() method to plot the closing prices from the DataFrame, and then call it again to plot the STOCHRSI values.\n",
    "\n",
    "We also add a legend to the graph using the legend() method, and finally show the graph using the show() method.\n",
    "\n",
    "Note that this example assumes that you have the matplotlib library installed. If you don't have it installed, you can install it using pip:"
   ]
  },
  {
   "attachments": {},
   "cell_type": "markdown",
   "metadata": {},
   "source": [
    "pip install matplotlib"
   ]
  },
  {
   "attachments": {},
   "cell_type": "markdown",
   "metadata": {},
   "source": [
    "Predicting stock prices is a challenging task, and there is no single machine learning algorithm that is universally best for this purpose. Different algorithms may perform better or worse depending on the specific characteristics of the data and the problem at hand. In general, the effectiveness of a machine learning algorithm for stock price prediction will depend on factors such as the quality of the data, the selection of features, the model architecture, and the training methodology.\n",
    "\n",
    "With that said, here are some common machine learning algorithms that are often used for stock price prediction:\n",
    "\n",
    "Linear Regression: Linear regression is a simple algorithm that models the relationship between a dependent variable (such as stock prices) and one or more independent variables (such as market indices or economic indicators). It assumes that the relationship between the variables is linear and can be expressed as a straight line. While linear regression may not be the most accurate algorithm for predicting stock prices, it is often used as a baseline algorithm for comparison.\n",
    "\n",
    "Support Vector Machines (SVM): SVM is a powerful algorithm that can be used for both regression and classification tasks. It works by finding the hyperplane that maximally separates the data into different classes (or predicts the target variable in the case of regression). SVMs can be used with a variety of kernels to capture complex nonlinear relationships between the features and the target variable.\n",
    "\n",
    "Random Forest: Random forest is an ensemble learning algorithm that combines multiple decision trees to improve the accuracy and robustness of predictions. It works by constructing a large number of decision trees on random subsets of the data, and then aggregating the predictions of the individual trees to arrive at a final prediction. Random forest can handle both numerical and categorical data, and can capture nonlinear relationships between the features and the target variable.\n",
    "\n",
    "Recurrent Neural Networks (RNN): RNNs are a class of neural networks that are designed to handle sequential data, such as time series data. They work by maintaining a state that is updated with each new input, allowing them to capture temporal dependencies in the data. RNNs can be used with various architectures, such as Long Short-Term Memory (LSTM) and Gated Recurrent Unit (GRU), and have shown promising results for stock price prediction.\n",
    "\n",
    "Convolutional Neural Networks (CNN): CNNs are another class of neural networks that are commonly used for image recognition, but can also be applied to time series data. They work by applying convolutional filters to the input data to extract relevant features, and then passing the resulting feature maps through one or more fully connected layers to make predictions. CNNs can capture local and global patterns in the data, and have shown good performance for stock price prediction in some studies.\n",
    "\n",
    "It's important to note that no algorithm is guaranteed to provide accurate predictions, and that the effectiveness of a particular algorithm will depend on many factors. It's also important to consider the ethical implications of using machine learning to predict stock prices, as it may contribute to market manipulation or other negative outcomes."
   ]
  },
  {
   "cell_type": "code",
   "execution_count": null,
   "metadata": {},
   "outputs": [],
   "source": [
    "import yfinance as yf\n",
    "import pandas as pd\n",
    "from sklearn.preprocessing import StandardScaler\n",
    "from sklearn.svm import SVR\n",
    "\n",
    "# download stock price data for Apple\n",
    "apple = yf.Ticker(\"AAPL\")\n",
    "df = apple.history(period=\"1y\")\n",
    "\n",
    "# prepare the data for SVM training\n",
    "X = pd.DataFrame(index=df.index)\n",
    "X[\"Close\"] = df[\"Close\"]\n",
    "\n",
    "scaler = StandardScaler()\n",
    "X = scaler.fit_transform(X)\n",
    "y = X[1:]\n",
    "X = X[:-1]\n",
    "\n",
    "# split the data into training and testing sets\n",
    "split = int(0.8 * len(X))\n",
    "X_train, y_train, X_test, y_test = X[:split], y[:split], X[split:], y[split:]\n",
    "\n",
    "# train the SVM model\n",
    "svm = SVR(kernel=\"rbf\", C=1e3, gamma=0.1)\n",
    "svm.fit(X_train, y_train)\n",
    "\n",
    "# make predictions on the test set\n",
    "y_pred = svm.predict(X_test)\n",
    "\n",
    "# evaluate the model's performance\n",
    "mse = ((y_pred - y_test) ** 2).mean()\n",
    "rmse = mse ** 0.5\n",
    "print(\"Root Mean Squared Error:\", rmse)"
   ]
  },
  {
   "attachments": {},
   "cell_type": "markdown",
   "metadata": {},
   "source": [
    "In this example, we use the yfinance library to download stock price data for Apple over the past year. We then prepare the data for SVM training by selecting the Close price as the feature, standardizing the data using StandardScaler, and splitting the data into training and testing sets.\n",
    "\n",
    "Next, we train an SVM model with a radial basis function (RBF) kernel, a regularization parameter C of 1,000, and a gamma parameter of 0.1. We then use the trained model to make predictions on the test set.\n",
    "\n",
    "Finally, we evaluate the performance of the model by calculating the Root Mean Squared Error (RMSE) between the predicted values and the actual values. The lower the RMSE, the better the performance of the model.\n",
    "\n",
    "Note that this is just a basic example, and there are many ways to further improve the performance of the SVM model, such as tuning the hyperparameters, using different feature sets, or incorporating other machine learning algorithms into an ensemble model."
   ]
  }
 ],
 "metadata": {
  "kernelspec": {
   "display_name": "venv",
   "language": "python",
   "name": "python3"
  },
  "language_info": {
   "codemirror_mode": {
    "name": "ipython",
    "version": 3
   },
   "file_extension": ".py",
   "mimetype": "text/x-python",
   "name": "python",
   "nbconvert_exporter": "python",
   "pygments_lexer": "ipython3",
   "version": "3.10.4"
  },
  "orig_nbformat": 4
 },
 "nbformat": 4,
 "nbformat_minor": 2
}
