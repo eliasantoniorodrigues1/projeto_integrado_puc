{
 "cells": [
  {
   "attachments": {},
   "cell_type": "markdown",
   "metadata": {},
   "source": [
    "### Using SVM - Support Vector Machine to predict Stock prices"
   ]
  },
  {
   "cell_type": "code",
   "execution_count": 32,
   "metadata": {},
   "outputs": [],
   "source": [
    "from sklearn.model_selection import train_test_split\n",
    "from sklearn.preprocessing import StandardScaler\n",
    "from sklearn.svm import SVC\n",
    "from sklearn.metrics import confusion_matrix, accuracy_score\n",
    "\n",
    "# matplotlib\n",
    "import matplotlib.pyplot as plt\n",
    "from matplotlib.colors import ListedColormap\n",
    "\n",
    "# numpy\n",
    "import numpy as np\n",
    "\n",
    "# pandas\n",
    "import pandas as pd\n",
    "import pandas_flavor as pf\n",
    "import os"
   ]
  },
  {
   "cell_type": "code",
   "execution_count": 33,
   "metadata": {},
   "outputs": [],
   "source": [
    "# base dir\n",
    "BASE_DIR = os.path.dirname(os.path.abspath('__file__'))\n",
    "DATA_DIR = os.path.join(BASE_DIR, 'data')"
   ]
  },
  {
   "attachments": {},
   "cell_type": "markdown",
   "metadata": {},
   "source": [
    "### Functions to clean data"
   ]
  },
  {
   "cell_type": "code",
   "execution_count": 34,
   "metadata": {},
   "outputs": [
    {
     "name": "stderr",
     "output_type": "stream",
     "text": [
      "C:\\Users\\leleu\\AppData\\Local\\Temp\\ipykernel_18572\\3754658354.py:5: UserWarning: registration of accessor <class 'pandas_flavor.register.register_dataframe_method.<locals>.inner.<locals>.AccessorMethod'> under name 'convert_to_time_stamp' for type <class 'pandas.core.frame.DataFrame'> is overriding a preexisting attribute with the same name.\n",
      "  def convert_to_time_stamp(date: str) -> float:\n"
     ]
    }
   ],
   "source": [
    "import datetime as dt\n",
    "import time\n",
    "\n",
    "@pf.register_dataframe_method\n",
    "def convert_to_time_stamp(date: str) -> float:\n",
    "    '''\n",
    "        receive a string date and return a timestamp date\n",
    "        params: date: str\n",
    "        return: ts: float\n",
    "    '''\n",
    "    d = dt.datetime.strptime(date, '%Y-%m-%d')\n",
    "    ts = time.mktime(d.timetuple())\n",
    "    return ts\n",
    "\n",
    "\n",
    "# test\n",
    "# ts = convert_to_time_stamp('2022-02-07')\n",
    "# print(ts, dt.datetime.fromtimestamp(ts))\n"
   ]
  },
  {
   "attachments": {},
   "cell_type": "markdown",
   "metadata": {},
   "source": [
    "### Importing Dataset\n"
   ]
  },
  {
   "cell_type": "code",
   "execution_count": 37,
   "metadata": {},
   "outputs": [
    {
     "name": "stdout",
     "output_type": "stream",
     "text": [
      "  ticker        date       date_ts   open   high    low    volume  adj_close  \\\n",
      "0  ABEV3  2023-02-14  1.676344e+09  13.15  13.36  12.99  29701200  13.000000   \n",
      "1  ABEV3  2020-07-13  1.594609e+09  14.91  14.95  13.98  36972600  12.410870   \n",
      "2  ABEV3  2020-02-27  1.582772e+09  14.90  14.97  14.28  91108200  12.854115   \n",
      "3  ABEV3  2021-04-01  1.617246e+09  15.39  15.40  14.99  15974100  13.714002   \n",
      "4  ABEV3  2021-10-22  1.634872e+09  14.83  15.23  14.54  29599100  13.714002   \n",
      "\n",
      "   close  \n",
      "0   13.0  \n",
      "1   14.0  \n",
      "2   14.5  \n",
      "3   15.0  \n",
      "4   15.0  \n",
      "          date_ts   open       high        low    volume  adj_close\n",
      "0    1.676344e+09  13.15  13.360000  12.990000  29701200  13.000000\n",
      "1    1.594609e+09  14.91  14.950000  13.980000  36972600  12.410870\n",
      "2    1.582772e+09  14.90  14.970000  14.280000  91108200  12.854115\n",
      "3    1.617246e+09  15.39  15.400000  14.990000  15974100  13.714002\n",
      "4    1.634872e+09  14.83  15.230000  14.540000  29599100  13.714002\n",
      "..            ...    ...        ...        ...       ...        ...\n",
      "739  1.607310e+09  14.92  15.230000  14.850000  25164600  13.270764\n",
      "740  1.643598e+09  14.90  15.120000  14.770000  21318000  14.220714\n",
      "741  1.663556e+09  15.30  15.530000  15.180000  14253700  14.695687\n",
      "742  1.625454e+09  17.42  18.000000  17.360001  18812100  16.401945\n",
      "743  1.623380e+09  19.24  19.389999  18.840000  30946600  17.316214\n",
      "\n",
      "[744 rows x 6 columns]\n",
      "0      13.000000\n",
      "1      14.000000\n",
      "2      14.500000\n",
      "3      15.000000\n",
      "4      15.000000\n",
      "         ...    \n",
      "739    14.970000\n",
      "740    14.970000\n",
      "741    15.470000\n",
      "742    17.940001\n",
      "743    18.940001\n",
      "Name: close, Length: 744, dtype: float64\n"
     ]
    }
   ],
   "source": [
    "df = pd.read_csv(os.path.join(DATA_DIR, 'abev3.csv'))\n",
    "\n",
    "# splitting data\n",
    "# get all columns except the last one\n",
    "# remove the column ticker because it contains text\n",
    "# df['date_ts'] = df['date'].convert_to_time_stamp()\n",
    "df.insert(2, 'date_ts', df['date'].apply(convert_to_time_stamp))\n",
    "# df['date_ts'] = df['date'].apply(convert_to_time_stamp)\n",
    "X = df.iloc[:, 2:-1]\n",
    "\n",
    "# get just the last column\n",
    "y = df.iloc[:, -1]\n",
    "print(df.head())\n",
    "print(X)\n",
    "print(y)"
   ]
  },
  {
   "attachments": {},
   "cell_type": "markdown",
   "metadata": {},
   "source": [
    " ### Splitting the dataset into Training and Test set"
   ]
  },
  {
   "cell_type": "code",
   "execution_count": 38,
   "metadata": {},
   "outputs": [],
   "source": [
    "X_train, X_test, y_train, y_test = train_test_split(X, y, test_size=0.25, random_state=0)"
   ]
  },
  {
   "cell_type": "code",
   "execution_count": 39,
   "metadata": {},
   "outputs": [
    {
     "name": "stdout",
     "output_type": "stream",
     "text": [
      "          date_ts   open       high        low    volume  adj_close\n",
      "658  1.592795e+09  13.70  14.180000  13.680000  24735500  12.508382\n",
      "566  1.623035e+09  19.32  19.820000  19.190001  27901200  17.919630\n",
      "294  1.617851e+09  15.20  15.670000  15.140000  19194000  14.125422\n",
      "77   1.603336e+09  13.41  13.570000  13.260000  21189900  12.029677\n",
      "352  1.639019e+09  16.10  16.110001  15.690000  19725400  14.454558\n",
      "..            ...    ...        ...        ...       ...        ...\n",
      "707  1.644203e+09  14.43  14.510000  14.270000  21182100  13.574749\n",
      "192  1.608520e+09  15.65  15.790000  15.310000  24879600  14.031122\n",
      "629  1.583982e+09  12.48  12.680000  11.390000  36313400  10.265562\n",
      "559  1.616036e+09  15.25  15.440000  15.160000  20329000  13.988282\n",
      "684  1.599793e+09  12.37  12.380000  12.040000  25286500  10.673347\n",
      "\n",
      "[558 rows x 6 columns]\n"
     ]
    }
   ],
   "source": [
    "print(X_train)"
   ]
  },
  {
   "cell_type": "code",
   "execution_count": 40,
   "metadata": {},
   "outputs": [
    {
     "name": "stdout",
     "output_type": "stream",
     "text": [
      "658    14.11\n",
      "566    19.60\n",
      "294    15.45\n",
      "77     13.57\n",
      "352    15.81\n",
      "       ...  \n",
      "707    14.29\n",
      "192    15.42\n",
      "629    11.58\n",
      "559    15.30\n",
      "684    12.04\n",
      "Name: close, Length: 558, dtype: float64\n"
     ]
    }
   ],
   "source": [
    "print(y_train)"
   ]
  },
  {
   "attachments": {},
   "cell_type": "markdown",
   "metadata": {},
   "source": [
    "### Feature Scaling"
   ]
  },
  {
   "cell_type": "code",
   "execution_count": 41,
   "metadata": {},
   "outputs": [],
   "source": [
    "sc = StandardScaler()\n",
    "X_train = sc.fit_transform(X_train)\n",
    "X_test = sc.transform(X_test)"
   ]
  },
  {
   "cell_type": "code",
   "execution_count": 42,
   "metadata": {},
   "outputs": [
    {
     "name": "stdout",
     "output_type": "stream",
     "text": [
      "[[-1.38523575 -0.75008963 -0.59594687 -0.62188262 -0.20259496 -0.8018873 ]\n",
      " [-0.25910283  2.79176312  2.99122454  2.82414518  0.02582363  2.66988472]\n",
      " [-0.45215419  0.19524475  0.3517278   0.29122092 -0.60243752  0.23558001]\n",
      " ...\n",
      " [-1.71342305 -1.51896176 -1.54998192 -2.05407921  0.63279928 -2.24084532]\n",
      " [-0.51972216  0.22675602  0.20544211  0.30372888 -0.52054249  0.14759357]\n",
      " [-1.12461641 -1.58828607 -1.74078905 -1.64756076 -0.16283799 -1.97921659]]\n"
     ]
    }
   ],
   "source": [
    "print(X_train)"
   ]
  },
  {
   "cell_type": "code",
   "execution_count": 43,
   "metadata": {},
   "outputs": [
    {
     "name": "stdout",
     "output_type": "stream",
     "text": [
      "[[-1.06348348 -1.53786828 -1.54998192 -1.44742868 -0.26881088 -1.69483759]\n",
      " [-0.41354392  0.4914497   0.43441091  0.53513175 -1.07118013  0.3352983 ]\n",
      " [ 1.50409957  0.78135166  0.65065835  0.74777239 -0.05420982  0.92447354]\n",
      " ...\n",
      " [-0.8382569   0.08180504  0.10367847  0.1849006  -0.25812484 -0.14781425]\n",
      " [ 0.85737752 -0.4034669  -0.52598452 -0.52807086 -0.21546005 -0.2822796 ]\n",
      " [-1.24366475 -0.81311156 -0.93303969 -1.01589312  1.44068834 -1.33083202]]\n"
     ]
    }
   ],
   "source": [
    "print(X_test)"
   ]
  },
  {
   "cell_type": "code",
   "execution_count": 51,
   "metadata": {},
   "outputs": [
    {
     "name": "stdout",
     "output_type": "stream",
     "text": [
      "(186,)\n"
     ]
    }
   ],
   "source": [
    "print(y_test.shape)"
   ]
  },
  {
   "attachments": {},
   "cell_type": "markdown",
   "metadata": {},
   "source": [
    "### Training the SVM model on the training set"
   ]
  },
  {
   "cell_type": "code",
   "execution_count": 52,
   "metadata": {},
   "outputs": [
    {
     "ename": "ValueError",
     "evalue": "Unknown label type: 'continuous'",
     "output_type": "error",
     "traceback": [
      "\u001b[1;31m---------------------------------------------------------------------------\u001b[0m",
      "\u001b[1;31mValueError\u001b[0m                                Traceback (most recent call last)",
      "Cell \u001b[1;32mIn[52], line 2\u001b[0m\n\u001b[0;32m      1\u001b[0m classifier \u001b[39m=\u001b[39m SVC(kernel\u001b[39m=\u001b[39m\u001b[39m'\u001b[39m\u001b[39mrbf\u001b[39m\u001b[39m'\u001b[39m, random_state\u001b[39m=\u001b[39m\u001b[39m0\u001b[39m)\n\u001b[1;32m----> 2\u001b[0m classifier\u001b[39m.\u001b[39;49mfit(X_train, y_train)\n",
      "File \u001b[1;32md:\\Cursos\\Pós Graduação PUC Minas\\2023\\Projeto Integrado\\consultor_de_investimentos\\venv\\lib\\site-packages\\sklearn\\svm\\_base.py:201\u001b[0m, in \u001b[0;36mBaseLibSVM.fit\u001b[1;34m(self, X, y, sample_weight)\u001b[0m\n\u001b[0;32m    191\u001b[0m \u001b[39melse\u001b[39;00m:\n\u001b[0;32m    192\u001b[0m     X, y \u001b[39m=\u001b[39m \u001b[39mself\u001b[39m\u001b[39m.\u001b[39m_validate_data(\n\u001b[0;32m    193\u001b[0m         X,\n\u001b[0;32m    194\u001b[0m         y,\n\u001b[1;32m   (...)\u001b[0m\n\u001b[0;32m    198\u001b[0m         accept_large_sparse\u001b[39m=\u001b[39m\u001b[39mFalse\u001b[39;00m,\n\u001b[0;32m    199\u001b[0m     )\n\u001b[1;32m--> 201\u001b[0m y \u001b[39m=\u001b[39m \u001b[39mself\u001b[39;49m\u001b[39m.\u001b[39;49m_validate_targets(y)\n\u001b[0;32m    203\u001b[0m sample_weight \u001b[39m=\u001b[39m np\u001b[39m.\u001b[39masarray(\n\u001b[0;32m    204\u001b[0m     [] \u001b[39mif\u001b[39;00m sample_weight \u001b[39mis\u001b[39;00m \u001b[39mNone\u001b[39;00m \u001b[39melse\u001b[39;00m sample_weight, dtype\u001b[39m=\u001b[39mnp\u001b[39m.\u001b[39mfloat64\n\u001b[0;32m    205\u001b[0m )\n\u001b[0;32m    206\u001b[0m solver_type \u001b[39m=\u001b[39m LIBSVM_IMPL\u001b[39m.\u001b[39mindex(\u001b[39mself\u001b[39m\u001b[39m.\u001b[39m_impl)\n",
      "File \u001b[1;32md:\\Cursos\\Pós Graduação PUC Minas\\2023\\Projeto Integrado\\consultor_de_investimentos\\venv\\lib\\site-packages\\sklearn\\svm\\_base.py:745\u001b[0m, in \u001b[0;36mBaseSVC._validate_targets\u001b[1;34m(self, y)\u001b[0m\n\u001b[0;32m    743\u001b[0m \u001b[39mdef\u001b[39;00m \u001b[39m_validate_targets\u001b[39m(\u001b[39mself\u001b[39m, y):\n\u001b[0;32m    744\u001b[0m     y_ \u001b[39m=\u001b[39m column_or_1d(y, warn\u001b[39m=\u001b[39m\u001b[39mTrue\u001b[39;00m)\n\u001b[1;32m--> 745\u001b[0m     check_classification_targets(y)\n\u001b[0;32m    746\u001b[0m     \u001b[39mcls\u001b[39m, y \u001b[39m=\u001b[39m np\u001b[39m.\u001b[39munique(y_, return_inverse\u001b[39m=\u001b[39m\u001b[39mTrue\u001b[39;00m)\n\u001b[0;32m    747\u001b[0m     \u001b[39mself\u001b[39m\u001b[39m.\u001b[39mclass_weight_ \u001b[39m=\u001b[39m compute_class_weight(\u001b[39mself\u001b[39m\u001b[39m.\u001b[39mclass_weight, classes\u001b[39m=\u001b[39m\u001b[39mcls\u001b[39m, y\u001b[39m=\u001b[39my_)\n",
      "File \u001b[1;32md:\\Cursos\\Pós Graduação PUC Minas\\2023\\Projeto Integrado\\consultor_de_investimentos\\venv\\lib\\site-packages\\sklearn\\utils\\multiclass.py:218\u001b[0m, in \u001b[0;36mcheck_classification_targets\u001b[1;34m(y)\u001b[0m\n\u001b[0;32m    210\u001b[0m y_type \u001b[39m=\u001b[39m type_of_target(y, input_name\u001b[39m=\u001b[39m\u001b[39m\"\u001b[39m\u001b[39my\u001b[39m\u001b[39m\"\u001b[39m)\n\u001b[0;32m    211\u001b[0m \u001b[39mif\u001b[39;00m y_type \u001b[39mnot\u001b[39;00m \u001b[39min\u001b[39;00m [\n\u001b[0;32m    212\u001b[0m     \u001b[39m\"\u001b[39m\u001b[39mbinary\u001b[39m\u001b[39m\"\u001b[39m,\n\u001b[0;32m    213\u001b[0m     \u001b[39m\"\u001b[39m\u001b[39mmulticlass\u001b[39m\u001b[39m\"\u001b[39m,\n\u001b[1;32m   (...)\u001b[0m\n\u001b[0;32m    216\u001b[0m     \u001b[39m\"\u001b[39m\u001b[39mmultilabel-sequences\u001b[39m\u001b[39m\"\u001b[39m,\n\u001b[0;32m    217\u001b[0m ]:\n\u001b[1;32m--> 218\u001b[0m     \u001b[39mraise\u001b[39;00m \u001b[39mValueError\u001b[39;00m(\u001b[39m\"\u001b[39m\u001b[39mUnknown label type: \u001b[39m\u001b[39m%r\u001b[39;00m\u001b[39m\"\u001b[39m \u001b[39m%\u001b[39m y_type)\n",
      "\u001b[1;31mValueError\u001b[0m: Unknown label type: 'continuous'"
     ]
    }
   ],
   "source": [
    "classifier = SVC(kernel='linear', random_state=0)\n",
    "classifier.fit(X_train, y_train)"
   ]
  }
 ],
 "metadata": {
  "kernelspec": {
   "display_name": "venv",
   "language": "python",
   "name": "python3"
  },
  "language_info": {
   "codemirror_mode": {
    "name": "ipython",
    "version": 3
   },
   "file_extension": ".py",
   "mimetype": "text/x-python",
   "name": "python",
   "nbconvert_exporter": "python",
   "pygments_lexer": "ipython3",
   "version": "3.10.4"
  },
  "orig_nbformat": 4
 },
 "nbformat": 4,
 "nbformat_minor": 2
}
