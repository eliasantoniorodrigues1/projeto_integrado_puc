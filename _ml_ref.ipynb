{
 "cells": [
  {
   "attachments": {},
   "cell_type": "markdown",
   "metadata": {},
   "source": [
    "### PRÉ-PROCESSAMENTO DOS DADOS"
   ]
  },
  {
   "cell_type": "code",
   "execution_count": 26,
   "metadata": {},
   "outputs": [],
   "source": [
    "import numpy as np\n",
    "import pandas as pd\n",
    "import ta\n",
    "from ta import add_all_ta_features\n",
    "from ta.utils import dropna\n",
    "from ta.momentum import roc, rsi, williams_r, StochRSIIndicator\n",
    "from ta.trend import ema_indicator, macd, macd_diff, macd_signal\n",
    "from ta.volume import on_balance_volume\n",
    "import os"
   ]
  },
  {
   "attachments": {},
   "cell_type": "markdown",
   "metadata": {},
   "source": [
    "### DEFINIÇÃO DE VARIÁVEIS"
   ]
  },
  {
   "cell_type": "code",
   "execution_count": 27,
   "metadata": {},
   "outputs": [
    {
     "name": "stdout",
     "output_type": "stream",
     "text": [
      "         date   open   high    low    volume  adj_close  close\n",
      "0  2023-02-14  13.15  13.36  12.99  29701200  13.000000   13.0\n",
      "1  2020-07-13  14.91  14.95  13.98  36972600  12.410870   14.0\n",
      "2  2020-02-27  14.90  14.97  14.28  91108200  12.854115   14.5\n",
      "3  2021-04-01  15.39  15.40  14.99  15974100  13.714002   15.0\n",
      "4  2021-10-22  14.83  15.23  14.54  29599100  13.714002   15.0\n"
     ]
    }
   ],
   "source": [
    "# base dir\n",
    "BASE_DIR = os.path.dirname(os.path.abspath('__file__'))\n",
    "DATA_DIR = os.path.join(BASE_DIR, 'data')\n",
    "# dias para predicao\n",
    "DIAS = 30\n",
    "test_size = 0.2\n",
    "\n",
    "# papel\n",
    "papel = 'ABVE3'\n",
    "\n",
    "# lendo dataset\n",
    "df = pd.read_csv(os.path.join(DATA_DIR, 'abev3.csv'))\n",
    "df = df.iloc[:, 1:]\n",
    "print(df.head())"
   ]
  },
  {
   "attachments": {},
   "cell_type": "markdown",
   "metadata": {},
   "source": [
    "### CRIAÇÃO DOS INDICADORES TÉCNICOS"
   ]
  },
  {
   "cell_type": "code",
   "execution_count": 28,
   "metadata": {},
   "outputs": [],
   "source": [
    "# clean NaN values\n",
    "df = dropna(df)"
   ]
  },
  {
   "cell_type": "code",
   "execution_count": 20,
   "metadata": {},
   "outputs": [
    {
     "name": "stderr",
     "output_type": "stream",
     "text": [
      "d:\\Cursos\\Pós Graduação PUC Minas\\2023\\Projeto Integrado\\consultor_de_investimentos\\venv\\lib\\site-packages\\ta\\trend.py:780: RuntimeWarning: invalid value encountered in scalar divide\n",
      "  dip[idx] = 100 * (self._dip[idx] / value)\n",
      "d:\\Cursos\\Pós Graduação PUC Minas\\2023\\Projeto Integrado\\consultor_de_investimentos\\venv\\lib\\site-packages\\ta\\trend.py:785: RuntimeWarning: invalid value encountered in scalar divide\n",
      "  din[idx] = 100 * (self._din[idx] / value)\n"
     ]
    }
   ],
   "source": [
    "# add ta features filling NaN values\n",
    "df = add_all_ta_features(df, open='open', high='high', low='low', \n",
    "                         close='close', volume='volume', fillna=True)"
   ]
  },
  {
   "cell_type": "code",
   "execution_count": 29,
   "metadata": {},
   "outputs": [
    {
     "name": "stdout",
     "output_type": "stream",
     "text": [
      "         date   open   high    low    volume  adj_close  close\n",
      "0  2023-02-14  13.15  13.36  12.99  29701200  13.000000   13.0\n",
      "1  2020-07-13  14.91  14.95  13.98  36972600  12.410870   14.0\n",
      "2  2020-02-27  14.90  14.97  14.28  91108200  12.854115   14.5\n",
      "3  2021-04-01  15.39  15.40  14.99  15974100  13.714002   15.0\n",
      "4  2021-10-22  14.83  15.23  14.54  29599100  13.714002   15.0\n"
     ]
    }
   ],
   "source": [
    "print(df.head())"
   ]
  },
  {
   "cell_type": "code",
   "execution_count": null,
   "metadata": {},
   "outputs": [],
   "source": [
    "# encontra em qual pacote esta os indicadores que eu preciso:\n",
    "indicadores_procurados = ['ema_indicator', 'rsi', 'willr', 'macd', 'obv', 'roc', 'fastk']\n",
    "indicators = {'ta.volatility': dir(ta.volatility),\n",
    "              'ta.momentum': dir(ta.momentum),\n",
    "               'ta.trend': dir(ta.trend),\n",
    "               'ta.trend.EMAIndicator': dir(ta.trend.EMAIndicator),\n",
    "               }\n",
    "# procurando\n",
    "for k, v in indicators.items():\n",
    "    for i in v:\n",
    "        if i.lower() in indicadores_procurados:\n",
    "            print(k, i)"
   ]
  },
  {
   "cell_type": "code",
   "execution_count": 30,
   "metadata": {},
   "outputs": [
    {
     "name": "stdout",
     "output_type": "stream",
     "text": [
      "         date   open   high    low  ...  macd_diff        obv  roc  stoch_rsi\n",
      "0  2023-02-14  13.15  13.36  12.99  ...   0.000000   29701200  0.0        NaN\n",
      "1  2020-07-13  14.91  14.95  13.98  ...   0.007111   66673800  0.0        NaN\n",
      "2  2020-02-27  14.90  14.97  14.28  ...   0.021330  157782000  0.0        NaN\n",
      "3  2021-04-01  15.39  15.40  14.99  ...   0.041997  173756100  0.0        NaN\n",
      "4  2021-10-22  14.83  15.23  14.54  ...   0.064517  203355200  0.0        NaN\n",
      "\n",
      "[5 rows x 19 columns]\n"
     ]
    }
   ],
   "source": [
    "# cria as colunas com a media exponencial ema para close, open e etc.\n",
    "ema_columns = ['close', 'open', 'high', 'low']\n",
    "for column in ema_columns:\n",
    "    df[f'ema_{column}'] = ema_indicator(close=df[column], window=12, fillna=True)\n",
    "\n",
    "# adicionando outros indicadores que dependem da media exponencial\n",
    "df['rsi'] = rsi(close=df['ema_close'], window=14)\n",
    "df['willr'] = williams_r(high=df['ema_high'], low=df['ema_low'], close=df['ema_close'], lbp=14)\n",
    "# m =  ta.trend.MACD(df['ema_close'], window_slow=24, window_fast=14, window_sign=14)\n",
    "\n",
    "df['macd'] = macd(df['ema_close'], window_slow=24, window_fast=14, fillna=True)\n",
    "df['macd_signal'] = macd_signal(df['ema_close'], window_slow=24, window_fast=14, fillna=True)\n",
    "df['macd_diff'] = macd_diff(df['ema_close'], window_slow=24, window_fast=14, window_sign=14,fillna=True)\n",
    "df['obv'] = on_balance_volume(close=df['close'], volume=df['volume'], fillna=True)\n",
    "df['roc'] = roc(close=df['close'], window=14, fillna=True)\n",
    "\n",
    "# criando o objeto stock_rsi\n",
    "stock_rsi = StochRSIIndicator(df['close'], window=14)\n",
    "df['stoch_rsi'] = stock_rsi.stochrsi()\n",
    "\n",
    "print(df.head())"
   ]
  },
  {
   "cell_type": "code",
   "execution_count": 31,
   "metadata": {},
   "outputs": [
    {
     "name": "stdout",
     "output_type": "stream",
     "text": [
      "   index        date   open   high  ...  macd_diff        obv  roc  stoch_rsi\n",
      "0      0  2023-02-14  13.15  13.36  ...   0.000000   29701200  0.0   0.387172\n",
      "1      1  2020-07-13  14.91  14.95  ...   0.007111   66673800  0.0   0.387172\n",
      "2      2  2020-02-27  14.90  14.97  ...   0.021330  157782000  0.0   0.387172\n",
      "3      3  2021-04-01  15.39  15.40  ...   0.041997  173756100  0.0   0.387172\n",
      "4      4  2021-10-22  14.83  15.23  ...   0.064517  203355200  0.0   0.387172\n",
      "\n",
      "[5 rows x 20 columns]\n"
     ]
    }
   ],
   "source": [
    "df.fillna(method=\"ffill\", inplace= True)\n",
    "df.fillna(method=\"bfill\",inplace= True)\n",
    "df = df.reset_index()\n",
    "\n",
    "print(df.head())"
   ]
  },
  {
   "cell_type": "code",
   "execution_count": 32,
   "metadata": {},
   "outputs": [
    {
     "data": {
      "image/png": "[encoded data removed]",
      "text/plain": [
       "<Figure size 640x480 with 1 Axes>"
      ]
     },
     "metadata": {},
     "output_type": "display_data"
    }
   ],
   "source": [
    "import matplotlib.pyplot as plt\n",
    "\n",
    "# plotando o preco de fechamento e o indicador STOCKRSI\n",
    "plt.plot(df['close'], label='Preço de Fechamento')\n",
    "plt.plot(df['stoch_rsi'], label='Stock RSI')\n",
    "plt.title(f'Preço de Fechamento de {papel}')\n",
    "plt.legend()\n",
    "plt.show()"
   ]
  },
  {
   "cell_type": "code",
   "execution_count": 34,
   "metadata": {},
   "outputs": [
    {
     "name": "stdout",
     "output_type": "stream",
     "text": [
      "   index        date   open   high  ...  macd_diff        obv  roc  stoch_rsi\n",
      "0      0  2023-02-14  13.15  13.36  ...   0.000000   29701200  0.0   0.387172\n",
      "1      1  2020-07-13  14.91  14.95  ...   0.007111   66673800  0.0   0.387172\n",
      "2      2  2020-02-27  14.90  14.97  ...   0.021330  157782000  0.0   0.387172\n",
      "3      3  2021-04-01  15.39  15.40  ...   0.041997  173756100  0.0   0.387172\n",
      "4      4  2021-10-22  14.83  15.23  ...   0.064517  203355200  0.0   0.387172\n",
      "\n",
      "[5 rows x 20 columns]\n"
     ]
    }
   ],
   "source": [
    "x_data = df\n",
    "x_data.fillna(method='ffill', inplace=True)\n",
    "x_data.fillna(method='bfill', inplace=True)\n",
    "print(x_data.head())"
   ]
  },
  {
   "cell_type": "code",
   "execution_count": 41,
   "metadata": {},
   "outputs": [],
   "source": [
    "# predicao usando SVM\n",
    "from sklearn.model_selection import train_test_split\n",
    "from sklearn.preprocessing import StandardScaler\n",
    "from sklearn.svm import SVC"
   ]
  },
  {
   "cell_type": "code",
   "execution_count": 44,
   "metadata": {},
   "outputs": [
    {
     "name": "stdout",
     "output_type": "stream",
     "text": [
      "Index(['index', 'date', 'open', 'high', 'low', 'volume', 'adj_close', 'close',\n",
      "       'ema_close', 'ema_open', 'ema_high', 'ema_low', 'rsi', 'willr', 'macd',\n",
      "       'macd_signal', 'macd_diff', 'obv', 'roc', 'stoch_rsi'],\n",
      "      dtype='object')\n"
     ]
    }
   ],
   "source": [
    "print(df.columns)"
   ]
  },
  {
   "cell_type": "code",
   "execution_count": 57,
   "metadata": {},
   "outputs": [],
   "source": [
    "import datetime as dt\n",
    "import time\n",
    "\n",
    "# function to transform data into float number\n",
    "def convert_to_time_stamp(date: str) -> float:\n",
    "    '''\n",
    "        receive a string date and return a timestamp date\n",
    "        params: date: str\n",
    "        return: ts: float\n",
    "    '''\n",
    "    d = dt.datetime.strptime(date, '%Y-%m-%d')\n",
    "    ts = time.mktime(d.timetuple())\n",
    "    return ts"
   ]
  },
  {
   "cell_type": "code",
   "execution_count": 59,
   "metadata": {},
   "outputs": [
    {
     "name": "stdout",
     "output_type": "stream",
     "text": [
      "Index(['index', 'date', 'open', 'high', 'low', 'volume', 'adj_close',\n",
      "       'ema_close', 'ema_open', 'ema_high', 'ema_low', 'rsi', 'willr', 'macd',\n",
      "       'macd_signal', 'macd_diff', 'obv', 'roc', 'stoch_rsi'],\n",
      "      dtype='object')\n",
      "     index          date   open  ...          obv        roc  stoch_rsi\n",
      "0        0  1.676344e+09  13.15  ...     29701200   0.000000   0.387172\n",
      "1        1  1.594609e+09  14.91  ...     66673800   0.000000   0.387172\n",
      "2        2  1.582772e+09  14.90  ...    157782000   0.000000   0.387172\n",
      "3        3  1.617246e+09  15.39  ...    173756100   0.000000   0.387172\n",
      "4        4  1.634872e+09  14.83  ...    203355200   0.000000   0.387172\n",
      "..     ...           ...    ...  ...          ...        ...        ...\n",
      "739    739  1.607310e+09  14.92  ...  16479999800   1.698370   0.413731\n",
      "740    740  1.643598e+09  14.90  ...  16501317800  -1.642576   0.413731\n",
      "741    741  1.663556e+09  15.30  ...  16515571500   1.642576   0.515514\n",
      "742    742  1.625454e+09  17.42  ...  16534383600  14.122139   0.921492\n",
      "743    743  1.623380e+09  19.24  ...  16565330200  20.483462   1.000000\n",
      "\n",
      "[744 rows x 19 columns]\n"
     ]
    },
    {
     "name": "stderr",
     "output_type": "stream",
     "text": [
      "C:\\Users\\leleu\\AppData\\Local\\Temp\\ipykernel_25740\\1652970755.py:5: SettingWithCopyWarning: \n",
      "A value is trying to be set on a copy of a slice from a DataFrame.\n",
      "Try using .loc[row_indexer,col_indexer] = value instead\n",
      "\n",
      "See the caveats in the documentation: https://pandas.pydata.org/pandas-docs/stable/user_guide/indexing.html#returning-a-view-versus-a-copy\n",
      "  X['date'] = X['date'].apply(convert_to_time_stamp)\n"
     ]
    }
   ],
   "source": [
    "# pega todas as colunas exceto a coluna que queremos prever 'close'\n",
    "X = df.iloc[:, df.columns != 'close']\n",
    "\n",
    "# convert a coluna data para ser usada dentro do StandarScaler\n",
    "X['date'] = X['date'].apply(convert_to_time_stamp)\n",
    "print(X.columns)\n",
    "print(X)"
   ]
  },
  {
   "cell_type": "code",
   "execution_count": 60,
   "metadata": {},
   "outputs": [
    {
     "name": "stdout",
     "output_type": "stream",
     "text": [
      "0      13.000000\n",
      "1      14.000000\n",
      "2      14.500000\n",
      "3      15.000000\n",
      "4      15.000000\n",
      "         ...    \n",
      "739    14.970000\n",
      "740    14.970000\n",
      "741    15.470000\n",
      "742    17.940001\n",
      "743    18.940001\n",
      "Name: close, Length: 744, dtype: float64\n"
     ]
    }
   ],
   "source": [
    "# pega a coluna de fechamento para usarmos na predicao\n",
    "y = df.iloc[:, 7]\n",
    "print(y)\n"
   ]
  },
  {
   "cell_type": "code",
   "execution_count": 61,
   "metadata": {},
   "outputs": [],
   "source": [
    "X_train, X_test, y_train, y_test = train_test_split(X, y, test_size=0.25, random_state=0)"
   ]
  },
  {
   "cell_type": "code",
   "execution_count": 62,
   "metadata": {},
   "outputs": [
    {
     "name": "stdout",
     "output_type": "stream",
     "text": [
      "     index          date   open  ...          obv        roc  stoch_rsi\n",
      "658    658  1.592795e+09  13.70  ...  14638714800   5.851461   0.462602\n",
      "566    566  1.623035e+09  19.32  ...  12862648300  42.028986   1.000000\n",
      "294    294  1.617851e+09  15.20  ...   6869240000   1.644737   0.547702\n",
      "77      77  1.603336e+09  13.41  ...   1960862600   1.042438   0.220817\n",
      "352    352  1.639019e+09  16.10  ...   8204402400  -1.923079   0.535741\n",
      "..     ...           ...    ...  ...          ...        ...        ...\n",
      "707    707  1.644203e+09  14.43  ...  15825291400  -4.986702   0.418507\n",
      "192    192  1.608520e+09  15.65  ...   4513647600   5.112474   0.394601\n",
      "629    629  1.583982e+09  12.48  ...  14084611300 -16.690646   0.000000\n",
      "559    559  1.616036e+09  15.25  ...  12719600800 -10.526317   0.624506\n",
      "684    684  1.599793e+09  12.37  ...  15211710900  -6.376359   0.135179\n",
      "\n",
      "[558 rows x 19 columns]\n"
     ]
    }
   ],
   "source": [
    "print(X_train)"
   ]
  },
  {
   "attachments": {},
   "cell_type": "markdown",
   "metadata": {},
   "source": [
    "### Feature Scaling"
   ]
  },
  {
   "cell_type": "code",
   "execution_count": 63,
   "metadata": {},
   "outputs": [
    {
     "name": "stdout",
     "output_type": "stream",
     "text": [
      "[[ 1.3614103  -1.38523575 -0.75008963 ...  1.3203941   0.31694153\n",
      "  -0.17814557]\n",
      " [ 0.93095903 -0.25910283  2.79176312 ...  0.94382008  2.64954451\n",
      "   1.56399354]\n",
      " [-0.3416795  -0.45215419  0.19524475 ... -0.3269442   0.04570637\n",
      "   0.09773166]\n",
      " ...\n",
      " [ 1.22572457 -1.71342305 -1.51896176 ...  1.20290921 -1.13649633\n",
      "  -1.67780822]\n",
      " [ 0.89820731 -0.51972216  0.22675602 ...  0.91349015 -0.73904149\n",
      "   0.3467175 ]\n",
      " [ 1.48305957 -1.12461641 -1.58828607 ...  1.44188473 -0.4714664\n",
      "  -1.23958556]]\n"
     ]
    }
   ],
   "source": [
    "sc = StandardScaler()\n",
    "\n",
    "\n",
    "X_train\n",
    "X_train = sc.fit_transform(X_train)\n",
    "X_test = sc.transform(X_test)\n",
    "\n",
    "print(X_train)"
   ]
  },
  {
   "cell_type": "code",
   "execution_count": 64,
   "metadata": {},
   "outputs": [
    {
     "name": "stdout",
     "output_type": "stream",
     "text": [
      "[[ 1.48773839 -1.06348348 -1.53786828 ...  1.44693475 -0.22077986\n",
      "  -0.77695615]\n",
      " [ 0.68298167 -0.41354392  0.4914497  ...  0.72002982  0.23312719\n",
      "   0.22906531]\n",
      " [-1.65174857  1.50409957  0.78135166 ... -1.68582904  1.42758036\n",
      "  -0.42267298]\n",
      " ...\n",
      " [ 1.04792949 -0.8382569   0.08180504 ...  1.02513637 -0.3662221\n",
      "   1.54019608]\n",
      " [ 0.08409295  0.85737752 -0.4034669  ...  0.11090363 -1.32175837\n",
      "   0.45727188]\n",
      " [-1.55349339 -1.24366475 -0.81311156 ... -1.5961808  -0.5444804\n",
      "  -1.22055798]]\n"
     ]
    }
   ],
   "source": [
    "print(X_test)"
   ]
  },
  {
   "attachments": {},
   "cell_type": "markdown",
   "metadata": {},
   "source": [
    "### Treinando o modelo SVM no dataset de treinamento"
   ]
  },
  {
   "cell_type": "code",
   "execution_count": 66,
   "metadata": {},
   "outputs": [
    {
     "ename": "ValueError",
     "evalue": "y should be a 1d array, got an array of shape (186, 19) instead.",
     "output_type": "error",
     "traceback": [
      "\u001b[1;31m---------------------------------------------------------------------------\u001b[0m",
      "\u001b[1;31mValueError\u001b[0m                                Traceback (most recent call last)",
      "Cell \u001b[1;32mIn[66], line 2\u001b[0m\n\u001b[0;32m      1\u001b[0m classifier \u001b[39m=\u001b[39m SVC(kernel\u001b[39m=\u001b[39m\u001b[39m'\u001b[39m\u001b[39mrbf\u001b[39m\u001b[39m'\u001b[39m, C\u001b[39m=\u001b[39m\u001b[39m100\u001b[39m, probability\u001b[39m=\u001b[39m\u001b[39mTrue\u001b[39;00m)\n\u001b[1;32m----> 2\u001b[0m classifier\u001b[39m.\u001b[39;49mfit(X_train, X_test)\n",
      "File \u001b[1;32md:\\Cursos\\Pós Graduação PUC Minas\\2023\\Projeto Integrado\\consultor_de_investimentos\\venv\\lib\\site-packages\\sklearn\\svm\\_base.py:192\u001b[0m, in \u001b[0;36mBaseLibSVM.fit\u001b[1;34m(self, X, y, sample_weight)\u001b[0m\n\u001b[0;32m    190\u001b[0m     check_consistent_length(X, y)\n\u001b[0;32m    191\u001b[0m \u001b[39melse\u001b[39;00m:\n\u001b[1;32m--> 192\u001b[0m     X, y \u001b[39m=\u001b[39m \u001b[39mself\u001b[39;49m\u001b[39m.\u001b[39;49m_validate_data(\n\u001b[0;32m    193\u001b[0m         X,\n\u001b[0;32m    194\u001b[0m         y,\n\u001b[0;32m    195\u001b[0m         dtype\u001b[39m=\u001b[39;49mnp\u001b[39m.\u001b[39;49mfloat64,\n\u001b[0;32m    196\u001b[0m         order\u001b[39m=\u001b[39;49m\u001b[39m\"\u001b[39;49m\u001b[39mC\u001b[39;49m\u001b[39m\"\u001b[39;49m,\n\u001b[0;32m    197\u001b[0m         accept_sparse\u001b[39m=\u001b[39;49m\u001b[39m\"\u001b[39;49m\u001b[39mcsr\u001b[39;49m\u001b[39m\"\u001b[39;49m,\n\u001b[0;32m    198\u001b[0m         accept_large_sparse\u001b[39m=\u001b[39;49m\u001b[39mFalse\u001b[39;49;00m,\n\u001b[0;32m    199\u001b[0m     )\n\u001b[0;32m    201\u001b[0m y \u001b[39m=\u001b[39m \u001b[39mself\u001b[39m\u001b[39m.\u001b[39m_validate_targets(y)\n\u001b[0;32m    203\u001b[0m sample_weight \u001b[39m=\u001b[39m np\u001b[39m.\u001b[39masarray(\n\u001b[0;32m    204\u001b[0m     [] \u001b[39mif\u001b[39;00m sample_weight \u001b[39mis\u001b[39;00m \u001b[39mNone\u001b[39;00m \u001b[39melse\u001b[39;00m sample_weight, dtype\u001b[39m=\u001b[39mnp\u001b[39m.\u001b[39mfloat64\n\u001b[0;32m    205\u001b[0m )\n",
      "File \u001b[1;32md:\\Cursos\\Pós Graduação PUC Minas\\2023\\Projeto Integrado\\consultor_de_investimentos\\venv\\lib\\site-packages\\sklearn\\base.py:584\u001b[0m, in \u001b[0;36mBaseEstimator._validate_data\u001b[1;34m(self, X, y, reset, validate_separately, **check_params)\u001b[0m\n\u001b[0;32m    582\u001b[0m         y \u001b[39m=\u001b[39m check_array(y, input_name\u001b[39m=\u001b[39m\u001b[39m\"\u001b[39m\u001b[39my\u001b[39m\u001b[39m\"\u001b[39m, \u001b[39m*\u001b[39m\u001b[39m*\u001b[39mcheck_y_params)\n\u001b[0;32m    583\u001b[0m     \u001b[39melse\u001b[39;00m:\n\u001b[1;32m--> 584\u001b[0m         X, y \u001b[39m=\u001b[39m check_X_y(X, y, \u001b[39m*\u001b[39m\u001b[39m*\u001b[39mcheck_params)\n\u001b[0;32m    585\u001b[0m     out \u001b[39m=\u001b[39m X, y\n\u001b[0;32m    587\u001b[0m \u001b[39mif\u001b[39;00m \u001b[39mnot\u001b[39;00m no_val_X \u001b[39mand\u001b[39;00m check_params\u001b[39m.\u001b[39mget(\u001b[39m\"\u001b[39m\u001b[39mensure_2d\u001b[39m\u001b[39m\"\u001b[39m, \u001b[39mTrue\u001b[39;00m):\n",
      "File \u001b[1;32md:\\Cursos\\Pós Graduação PUC Minas\\2023\\Projeto Integrado\\consultor_de_investimentos\\venv\\lib\\site-packages\\sklearn\\utils\\validation.py:1122\u001b[0m, in \u001b[0;36mcheck_X_y\u001b[1;34m(X, y, accept_sparse, accept_large_sparse, dtype, order, copy, force_all_finite, ensure_2d, allow_nd, multi_output, ensure_min_samples, ensure_min_features, y_numeric, estimator)\u001b[0m\n\u001b[0;32m   1102\u001b[0m     \u001b[39mraise\u001b[39;00m \u001b[39mValueError\u001b[39;00m(\n\u001b[0;32m   1103\u001b[0m         \u001b[39mf\u001b[39m\u001b[39m\"\u001b[39m\u001b[39m{\u001b[39;00mestimator_name\u001b[39m}\u001b[39;00m\u001b[39m requires y to be passed, but the target y is None\u001b[39m\u001b[39m\"\u001b[39m\n\u001b[0;32m   1104\u001b[0m     )\n\u001b[0;32m   1106\u001b[0m X \u001b[39m=\u001b[39m check_array(\n\u001b[0;32m   1107\u001b[0m     X,\n\u001b[0;32m   1108\u001b[0m     accept_sparse\u001b[39m=\u001b[39maccept_sparse,\n\u001b[1;32m   (...)\u001b[0m\n\u001b[0;32m   1119\u001b[0m     input_name\u001b[39m=\u001b[39m\u001b[39m\"\u001b[39m\u001b[39mX\u001b[39m\u001b[39m\"\u001b[39m,\n\u001b[0;32m   1120\u001b[0m )\n\u001b[1;32m-> 1122\u001b[0m y \u001b[39m=\u001b[39m _check_y(y, multi_output\u001b[39m=\u001b[39;49mmulti_output, y_numeric\u001b[39m=\u001b[39;49my_numeric, estimator\u001b[39m=\u001b[39;49mestimator)\n\u001b[0;32m   1124\u001b[0m check_consistent_length(X, y)\n\u001b[0;32m   1126\u001b[0m \u001b[39mreturn\u001b[39;00m X, y\n",
      "File \u001b[1;32md:\\Cursos\\Pós Graduação PUC Minas\\2023\\Projeto Integrado\\consultor_de_investimentos\\venv\\lib\\site-packages\\sklearn\\utils\\validation.py:1143\u001b[0m, in \u001b[0;36m_check_y\u001b[1;34m(y, multi_output, y_numeric, estimator)\u001b[0m\n\u001b[0;32m   1141\u001b[0m \u001b[39melse\u001b[39;00m:\n\u001b[0;32m   1142\u001b[0m     estimator_name \u001b[39m=\u001b[39m _check_estimator_name(estimator)\n\u001b[1;32m-> 1143\u001b[0m     y \u001b[39m=\u001b[39m column_or_1d(y, warn\u001b[39m=\u001b[39;49m\u001b[39mTrue\u001b[39;49;00m)\n\u001b[0;32m   1144\u001b[0m     _assert_all_finite(y, input_name\u001b[39m=\u001b[39m\u001b[39m\"\u001b[39m\u001b[39my\u001b[39m\u001b[39m\"\u001b[39m, estimator_name\u001b[39m=\u001b[39mestimator_name)\n\u001b[0;32m   1145\u001b[0m     _ensure_no_complex_data(y)\n",
      "File \u001b[1;32md:\\Cursos\\Pós Graduação PUC Minas\\2023\\Projeto Integrado\\consultor_de_investimentos\\venv\\lib\\site-packages\\sklearn\\utils\\validation.py:1202\u001b[0m, in \u001b[0;36mcolumn_or_1d\u001b[1;34m(y, dtype, warn)\u001b[0m\n\u001b[0;32m   1193\u001b[0m         warnings\u001b[39m.\u001b[39mwarn(\n\u001b[0;32m   1194\u001b[0m             \u001b[39m\"\u001b[39m\u001b[39mA column-vector y was passed when a 1d array was\u001b[39m\u001b[39m\"\u001b[39m\n\u001b[0;32m   1195\u001b[0m             \u001b[39m\"\u001b[39m\u001b[39m expected. Please change the shape of y to \u001b[39m\u001b[39m\"\u001b[39m\n\u001b[1;32m   (...)\u001b[0m\n\u001b[0;32m   1198\u001b[0m             stacklevel\u001b[39m=\u001b[39m\u001b[39m2\u001b[39m,\n\u001b[0;32m   1199\u001b[0m         )\n\u001b[0;32m   1200\u001b[0m     \u001b[39mreturn\u001b[39;00m _asarray_with_order(xp\u001b[39m.\u001b[39mreshape(y, \u001b[39m-\u001b[39m\u001b[39m1\u001b[39m), order\u001b[39m=\u001b[39m\u001b[39m\"\u001b[39m\u001b[39mC\u001b[39m\u001b[39m\"\u001b[39m, xp\u001b[39m=\u001b[39mxp)\n\u001b[1;32m-> 1202\u001b[0m \u001b[39mraise\u001b[39;00m \u001b[39mValueError\u001b[39;00m(\n\u001b[0;32m   1203\u001b[0m     \u001b[39m\"\u001b[39m\u001b[39my should be a 1d array, got an array of shape \u001b[39m\u001b[39m{}\u001b[39;00m\u001b[39m instead.\u001b[39m\u001b[39m\"\u001b[39m\u001b[39m.\u001b[39mformat(shape)\n\u001b[0;32m   1204\u001b[0m )\n",
      "\u001b[1;31mValueError\u001b[0m: y should be a 1d array, got an array of shape (186, 19) instead."
     ]
    }
   ],
   "source": [
    "classifier = SVC(kernel='rbf', C=100, probability=True)\n",
    "classifier.fit(X_train, X_test)\n"
   ]
  }
 ],
 "metadata": {
  "kernelspec": {
   "display_name": "venv",
   "language": "python",
   "name": "python3"
  },
  "language_info": {
   "codemirror_mode": {
    "name": "ipython",
    "version": 3
   },
   "file_extension": ".py",
   "mimetype": "text/x-python",
   "name": "python",
   "nbconvert_exporter": "python",
   "pygments_lexer": "ipython3",
   "version": "3.10.4"
  },
  "orig_nbformat": 4
 },
 "nbformat": 4,
 "nbformat_minor": 2
}
