{
 "cells": [
  {
   "attachments": {},
   "cell_type": "markdown",
   "metadata": {},
   "source": [
    "### PRÉ-PROCESSAMENTO DOS DADOS"
   ]
  },
  {
   "cell_type": "code",
   "execution_count": 46,
   "metadata": {},
   "outputs": [],
   "source": [
    "import numpy as np\n",
    "import pandas as pd\n",
    "import ta\n",
    "from ta import add_all_ta_features\n",
    "from ta.utils import dropna\n",
    "from ta.momentum import roc, rsi, williams_r, AwesomeOscillatorIndicator\n",
    "from ta.trend import ema_indicator, macd, macd_diff, macd_signal\n",
    "from ta.volume import on_balance_volume\n",
    "import os"
   ]
  },
  {
   "attachments": {},
   "cell_type": "markdown",
   "metadata": {},
   "source": [
    "### DEFINIÇÃO DE VARIÁVEIS"
   ]
  },
  {
   "cell_type": "code",
   "execution_count": 54,
   "metadata": {},
   "outputs": [
    {
     "name": "stdout",
     "output_type": "stream",
     "text": [
      "         date   open   high    low    volume  adj_close  close\n",
      "0  2023-02-14  13.15  13.36  12.99  29701200  13.000000   13.0\n",
      "1  2020-07-13  14.91  14.95  13.98  36972600  12.410870   14.0\n",
      "2  2020-02-27  14.90  14.97  14.28  91108200  12.854115   14.5\n",
      "3  2021-04-01  15.39  15.40  14.99  15974100  13.714002   15.0\n",
      "4  2021-10-22  14.83  15.23  14.54  29599100  13.714002   15.0\n"
     ]
    }
   ],
   "source": [
    "# base dir\n",
    "BASE_DIR = os.path.dirname(os.path.abspath('__file__'))\n",
    "DATA_DIR = os.path.join(BASE_DIR, 'data')\n",
    "# dias para predicao\n",
    "DIAS = 30\n",
    "test_size = 0.2\n",
    "\n",
    "# lendo dataset\n",
    "df = pd.read_csv(os.path.join(DATA_DIR, 'abev3.csv'))\n",
    "df = df.iloc[:, 1:]\n",
    "print(df.head())"
   ]
  },
  {
   "attachments": {},
   "cell_type": "markdown",
   "metadata": {},
   "source": [
    "### CRIAÇÃO DOS INDICADORES TÉCNICOS"
   ]
  },
  {
   "cell_type": "code",
   "execution_count": 55,
   "metadata": {},
   "outputs": [],
   "source": [
    "# clean NaN values\n",
    "df = dropna(df)"
   ]
  },
  {
   "cell_type": "code",
   "execution_count": 56,
   "metadata": {},
   "outputs": [
    {
     "name": "stderr",
     "output_type": "stream",
     "text": [
      "d:\\Cursos\\Pós Graduação PUC Minas\\2023\\Projeto Integrado\\consultor_de_investimentos\\venv\\lib\\site-packages\\ta\\trend.py:780: RuntimeWarning: invalid value encountered in scalar divide\n",
      "  dip[idx] = 100 * (self._dip[idx] / value)\n",
      "d:\\Cursos\\Pós Graduação PUC Minas\\2023\\Projeto Integrado\\consultor_de_investimentos\\venv\\lib\\site-packages\\ta\\trend.py:785: RuntimeWarning: invalid value encountered in scalar divide\n",
      "  din[idx] = 100 * (self._din[idx] / value)\n"
     ]
    }
   ],
   "source": [
    "# add ta features filling NaN values\n",
    "df = add_all_ta_features(df, open='open', high='high', low='low', \n",
    "                         close='close', volume='volume', fillna=True)"
   ]
  },
  {
   "cell_type": "code",
   "execution_count": 57,
   "metadata": {},
   "outputs": [
    {
     "name": "stdout",
     "output_type": "stream",
     "text": [
      "         date   open   high    low    volume  adj_close  close    volume_adi  \\\n",
      "0  2023-02-14  13.15  13.36  12.99  29701200  13.000000   13.0 -2.809569e+07   \n",
      "1  2020-07-13  14.91  14.95  13.98  36972600  12.410870   14.0 -6.354361e+07   \n",
      "2  2020-02-27  14.90  14.97  14.28  91108200  12.854115   14.5 -9.655381e+07   \n",
      "3  2021-04-01  15.39  15.40  14.99  15974100  13.714002   15.0 -1.117487e+08   \n",
      "4  2021-10-22  14.83  15.23  14.54  29599100  13.714002   15.0 -1.018823e+08   \n",
      "\n",
      "   volume_obv  volume_cmf  ...  momentum_ppo  momentum_ppo_signal  \\\n",
      "0    29701200   -0.945945  ...      0.000000             0.000000   \n",
      "1    66673800   -0.953052  ...      0.610155             0.122031   \n",
      "2   157782000   -0.611944  ...      1.375210             0.372667   \n",
      "3   173756100   -0.643135  ...      2.242462             0.746626   \n",
      "4   203355200   -0.501006  ...      2.880281             1.173357   \n",
      "\n",
      "   momentum_ppo_hist  momentum_pvo  momentum_pvo_signal  momentum_pvo_hist  \\\n",
      "0           0.000000      0.000000             0.000000           0.000000   \n",
      "1           0.488124      1.918182             0.383636           1.534545   \n",
      "2           1.002543     15.385984             3.384106          12.001878   \n",
      "3           1.495836      9.071939             4.521673           4.550267   \n",
      "4           1.706924      6.834425             4.984223           1.850202   \n",
      "\n",
      "   momentum_kama  others_dr  others_dlr  others_cr  \n",
      "0      13.000000 -12.530432    0.000000   0.000000  \n",
      "1      13.023680   7.692308    7.410797   7.692308  \n",
      "2      13.076051   3.571429    3.509132  11.538462  \n",
      "3      13.138767   3.448276    3.390155  15.384615  \n",
      "4      13.159174   0.000000    0.000000  15.384615  \n",
      "\n",
      "[5 rows x 93 columns]\n"
     ]
    }
   ],
   "source": [
    "print(df.head())"
   ]
  },
  {
   "cell_type": "code",
   "execution_count": 51,
   "metadata": {},
   "outputs": [
    {
     "name": "stdout",
     "output_type": "stream",
     "text": [
      "ta.momentum roc\n",
      "ta.momentum rsi\n",
      "ta.trend MACD\n",
      "ta.trend ema_indicator\n",
      "ta.trend macd\n",
      "ta.trend.EMAIndicator ema_indicator\n"
     ]
    }
   ],
   "source": [
    "# encontra em qual pacote esta os indicadores que eu preciso:\n",
    "indicadores_procurados = ['ema_indicator', 'rsi', 'willr', 'macd', 'obv', 'roc', 'fastk']\n",
    "indicators = {'ta.volatility': dir(ta.volatility),\n",
    "              'ta.momentum': dir(ta.momentum),\n",
    "               'ta.trend': dir(ta.trend),\n",
    "               'ta.trend.EMAIndicator': dir(ta.trend.EMAIndicator),\n",
    "               }\n",
    "# procurando\n",
    "for k, v in indicators.items():\n",
    "    for i in v:\n",
    "        if i.lower() in indicadores_procurados:\n",
    "            print(k, i)"
   ]
  },
  {
   "cell_type": "code",
   "execution_count": 58,
   "metadata": {},
   "outputs": [
    {
     "name": "stdout",
     "output_type": "stream",
     "text": [
      "         date   open   high    low    volume  adj_close  close    volume_adi  \\\n",
      "0  2023-02-14  13.15  13.36  12.99  29701200  13.000000   13.0 -2.809569e+07   \n",
      "1  2020-07-13  14.91  14.95  13.98  36972600  12.410870   14.0 -6.354361e+07   \n",
      "2  2020-02-27  14.90  14.97  14.28  91108200  12.854115   14.5 -9.655381e+07   \n",
      "3  2021-04-01  15.39  15.40  14.99  15974100  13.714002   15.0 -1.117487e+08   \n",
      "4  2021-10-22  14.83  15.23  14.54  29599100  13.714002   15.0 -1.018823e+08   \n",
      "\n",
      "   volume_obv  volume_cmf  ...   ema_open   ema_high    ema_low  rsi  willr  \\\n",
      "0    29701200   -0.945945  ...  13.150000  13.360000  12.990000  NaN    NaN   \n",
      "1    66673800   -0.953052  ...  13.420769  13.604615  13.142307  NaN    NaN   \n",
      "2   157782000   -0.611944  ...  13.648343  13.814674  13.317337  NaN    NaN   \n",
      "3   173756100   -0.643135  ...  13.916290  14.058571  13.574670  NaN    NaN   \n",
      "4   203355200   -0.501006  ...  14.056861  14.238790  13.723182  NaN    NaN   \n",
      "\n",
      "       macd  macd_signal  macd_diff        obv  roc  \n",
      "0  0.000000     0.000000   0.000000   29701200  0.0  \n",
      "1  0.008205     0.001641   0.007111   66673800  0.0  \n",
      "2  0.025705     0.006454   0.021330  157782000  0.0  \n",
      "3  0.052833     0.015730   0.041997  173756100  0.0  \n",
      "4  0.085279     0.029640   0.064517  203355200  0.0  \n",
      "\n",
      "[5 rows x 104 columns]\n"
     ]
    }
   ],
   "source": [
    "# cria as colunas com a media exponencial ema para close, open e etc.\n",
    "ema_columns = ['close', 'open', 'high', 'low']\n",
    "for column in ema_columns:\n",
    "    df[f'ema_{column}'] = ema_indicator(close=df[column], window=12, fillna=True)\n",
    "\n",
    "# adicionando outros indicadores que dependem da media exponencial\n",
    "df['rsi'] = rsi(close=df['ema_close'], window=14)\n",
    "df['willr'] = williams_r(high=df['ema_high'], low=df['ema_low'], close=df['ema_close'], lbp=14)\n",
    "# m =  ta.trend.MACD(df['ema_close'], window_slow=24, window_fast=14, window_sign=14)\n",
    "\n",
    "df['macd'] = macd(df['ema_close'], window_slow=24, window_fast=14, fillna=True)\n",
    "df['macd_signal'] = macd_signal(df['ema_close'], window_slow=24, window_fast=14, fillna=True)\n",
    "df['macd_diff'] = macd_diff(df['ema_close'], window_slow=24, window_fast=14, window_sign=14,fillna=True)\n",
    "df['obv'] = on_balance_volume(close=df['close'], volume=df['volume'], fillna=True)\n",
    "df['roc'] = roc(close=df['close'], window=14, fillna=True)\n",
    "\n",
    "print(df.head())"
   ]
  },
  {
   "cell_type": "code",
   "execution_count": 59,
   "metadata": {},
   "outputs": [
    {
     "name": "stdout",
     "output_type": "stream",
     "text": [
      "   index        date   open   high    low    volume  adj_close  close  \\\n",
      "0      0  2023-02-14  13.15  13.36  12.99  29701200  13.000000   13.0   \n",
      "1      1  2020-07-13  14.91  14.95  13.98  36972600  12.410870   14.0   \n",
      "2      2  2020-02-27  14.90  14.97  14.28  91108200  12.854115   14.5   \n",
      "3      3  2021-04-01  15.39  15.40  14.99  15974100  13.714002   15.0   \n",
      "4      4  2021-10-22  14.83  15.23  14.54  29599100  13.714002   15.0   \n",
      "\n",
      "     volume_adi  volume_obv  ...   ema_open   ema_high    ema_low    rsi  \\\n",
      "0 -2.809569e+07    29701200  ...  13.150000  13.360000  12.990000  100.0   \n",
      "1 -6.354361e+07    66673800  ...  13.420769  13.604615  13.142307  100.0   \n",
      "2 -9.655381e+07   157782000  ...  13.648343  13.814674  13.317337  100.0   \n",
      "3 -1.117487e+08   173756100  ...  13.916290  14.058571  13.574670  100.0   \n",
      "4 -1.018823e+08   203355200  ...  14.056861  14.238790  13.723182  100.0   \n",
      "\n",
      "      willr      macd  macd_signal  macd_diff        obv  roc  \n",
      "0 -8.267343  0.000000     0.000000   0.000000   29701200  0.0  \n",
      "1 -8.267343  0.008205     0.001641   0.007111   66673800  0.0  \n",
      "2 -8.267343  0.025705     0.006454   0.021330  157782000  0.0  \n",
      "3 -8.267343  0.052833     0.015730   0.041997  173756100  0.0  \n",
      "4 -8.267343  0.085279     0.029640   0.064517  203355200  0.0  \n",
      "\n",
      "[5 rows x 105 columns]\n"
     ]
    }
   ],
   "source": [
    "df.fillna(method=\"ffill\", inplace= True)\n",
    "df.fillna(method=\"bfill\",inplace= True)\n",
    "df = df.reset_index()\n",
    "\n",
    "print(df.head())"
   ]
  }
 ],
 "metadata": {
  "kernelspec": {
   "display_name": "venv",
   "language": "python",
   "name": "python3"
  },
  "language_info": {
   "codemirror_mode": {
    "name": "ipython",
    "version": 3
   },
   "file_extension": ".py",
   "mimetype": "text/x-python",
   "name": "python",
   "nbconvert_exporter": "python",
   "pygments_lexer": "ipython3",
   "version": "3.10.4"
  },
  "orig_nbformat": 4
 },
 "nbformat": 4,
 "nbformat_minor": 2
}
